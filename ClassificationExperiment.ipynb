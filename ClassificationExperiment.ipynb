{
 "cells": [
  {
   "cell_type": "code",
   "execution_count": 1,
   "metadata": {
    "collapsed": true
   },
   "outputs": [],
   "source": [
    "import pandas as pd\n",
    "import numpy as np\n",
    "from sklearn import datasets as ds\n",
    "from sklearn.model_selection import train_test_split"
   ]
  },
  {
   "cell_type": "code",
   "execution_count": 4,
   "metadata": {
    "collapsed": true
   },
   "outputs": [],
   "source": [
    "#load datasets\n",
    "X, y = ds.load_svmlight_file('data/australian_scale')\n",
    "X = X.todense()"
   ]
  },
  {
   "cell_type": "code",
   "execution_count": 5,
   "metadata": {
    "collapsed": false
   },
   "outputs": [
    {
     "data": {
      "text/plain": [
       "((345, 14), (345,))"
      ]
     },
     "execution_count": 5,
     "metadata": {},
     "output_type": "execute_result"
    }
   ],
   "source": [
    "#train-test split\n",
    "X_train, X_test, y_train, y_test = train_test_split(X, y, test_size=0.5, random_state=42)\n",
    "X_train = np.array(X_train)\n",
    "X_train.shape, y_train.shape"
   ]
  },
  {
   "cell_type": "code",
   "execution_count": 11,
   "metadata": {
    "collapsed": true
   },
   "outputs": [],
   "source": [
    "#param init:all zeros\n",
    "def zeroInit():\n",
    "    #w, b\n",
    "    return np.zeros(X_train.shape[1]), np.zeros(X_train.shape[0])\n",
    "\n",
    "# define loss\n",
    "def loss(X, y, w, b, C):\n",
    "    return 1/2 * np.sum(np.square(w)) + C * np.sum(hingeLoss(X, y, w, b))\n",
    "\n",
    "#define hinge loss\n",
    "def hingeLoss(X, y, w, b):\n",
    "    #cannot use np.max here: two arrays\n",
    "    return np.maximum(0, 1-np.multiply(y, np.dot(X, w)+b))\n",
    "\n",
    "#cal gradients\n",
    "def gradient_w(X, y, w, b, C):\n",
    "    margin = 1-np.multiply(y, np.dot(X, w)+b)\n",
    "    minus_y = -y\n",
    "    minus_y[margin<0] = 0\n",
    "    return w + C * np.dot(X.T, minus_y)\n",
    "\n",
    "def gradient_b(X, y, w, b, C):\n",
    "    margin = 1-np.multiply(y, np.dot(X, w)+b)\n",
    "    minus_y = -y\n",
    "    minus_y[margin<0] = 0\n",
    "    return C * np.sum(minus_y)"
   ]
  },
  {
   "cell_type": "code",
   "execution_count": 22,
   "metadata": {
    "collapsed": false,
    "scrolled": true
   },
   "outputs": [
    {
     "name": "stdout",
     "output_type": "stream",
     "text": [
      "iter 0: 34.5 34.5\n",
      "iter 1: 31.3704920381 31.2846509648\n",
      "iter 2: 28.2596680758 28.0881784725\n",
      "iter 3: 25.1674161774 24.9104700096\n",
      "iter 4: 22.0936250776 21.751413735\n",
      "iter 5: 19.2379652408 18.7734941013\n",
      "iter 6: 17.3804822083 17.0011648396\n",
      "iter 7: 15.8705132841 15.797847159\n",
      "iter 8: 14.4730564881 14.7214149144\n",
      "iter 9: 13.4771076525 14.0874466553\n",
      "iter 10: 13.1093541756 13.8002625139\n",
      "iter 11: 12.9619908084 13.6280298451\n",
      "iter 12: 12.8459497219 13.4967396584\n",
      "iter 13: 12.7492514503 13.386936713\n",
      "iter 14: 12.6549045259 13.2812062591\n",
      "iter 15: 12.561506253 13.1785376058\n",
      "iter 16: 12.4696283338 13.0769288454\n",
      "iter 17: 12.3788539655 12.9756721106\n",
      "iter 18: 12.2902097291 12.8745103614\n",
      "iter 19: 12.20549428 12.7743677322\n",
      "iter 20: 12.1235448087 12.6810164668\n",
      "iter 21: 12.0421349053 12.5869779588\n",
      "iter 22: 11.9612127286 12.4934650633\n",
      "iter 23: 11.8807787926 12.4000547448\n",
      "iter 24: 11.8010707291 12.3084096226\n",
      "iter 25: 11.7214779516 12.2151523505\n",
      "iter 26: 11.6425705438 12.1256606264\n",
      "iter 27: 11.5649788591 12.0381468512\n",
      "iter 28: 11.4936261272 11.9549852328\n",
      "iter 29: 11.4284322596 11.8779644547\n",
      "iter 30: 11.3696252033 11.8085268075\n",
      "iter 31: 11.3139508802 11.7388521909\n",
      "iter 32: 11.2621223185 11.6680929436\n",
      "iter 33: 11.218434307 11.6178373137\n",
      "iter 34: 11.1778301096 11.5641081686\n",
      "iter 35: 11.1387556153 11.5111410123\n",
      "iter 36: 11.1003904144 11.4600739322\n",
      "iter 37: 11.0636722463 11.4101703968\n",
      "iter 38: 11.0293419291 11.3649596116\n",
      "iter 39: 10.9952862774 11.3210659136\n",
      "iter 40: 10.9618076829 11.2781225841\n",
      "iter 41: 10.9331200276 11.2412979456\n",
      "iter 42: 10.9074705903 11.2100032149\n",
      "iter 43: 10.884641977 11.1781219789\n",
      "iter 44: 10.8649029175 11.1542663413\n",
      "iter 45: 10.8465605277 11.1336619365\n",
      "iter 46: 10.8284775745 11.1108383644\n",
      "iter 47: 10.8105325067 11.0934107665\n",
      "iter 48: 10.7924820373 11.0710173866\n",
      "iter 49: 10.7748754424 11.0516803158\n",
      "iter 50: 10.7589492301 11.03446933\n",
      "iter 51: 10.7449228067 11.0161066158\n",
      "iter 52: 10.733869626 11.0020667871\n",
      "iter 53: 10.7231256187 10.9879502879\n",
      "iter 54: 10.7128491849 10.9739082736\n",
      "iter 55: 10.7046503295 10.9605956004\n",
      "iter 56: 10.6971471187 10.9460959858\n",
      "iter 57: 10.6907242811 10.9331789922\n",
      "iter 58: 10.6850170886 10.9226469219\n",
      "iter 59: 10.6793784585 10.9137952835\n",
      "iter 60: 10.6740845561 10.9055638727\n",
      "iter 61: 10.6692703706 10.8988469474\n",
      "iter 62: 10.6644340526 10.8896250215\n",
      "iter 63: 10.6599980347 10.8818449263\n",
      "iter 64: 10.6556850337 10.8755031422\n",
      "iter 65: 10.6513987192 10.867790591\n",
      "iter 66: 10.6473080728 10.8602347877\n",
      "iter 67: 10.6432424442 10.8533319056\n",
      "iter 68: 10.6392011728 10.8464618924\n",
      "iter 69: 10.6351841126 10.8396245767\n",
      "iter 70: 10.6312315283 10.833479788\n",
      "iter 71: 10.6275229351 10.8278718795\n",
      "iter 72: 10.6241719711 10.8223935086\n",
      "iter 73: 10.6210923255 10.8178286388\n",
      "iter 74: 10.6180889186 10.812566378\n",
      "iter 75: 10.6151750148 10.8073256471\n",
      "iter 76: 10.612503608 10.8014854717\n",
      "iter 77: 10.6097621221 10.7953159912\n",
      "iter 78: 10.6072751847 10.7902938539\n",
      "iter 79: 10.6047451725 10.7819058\n",
      "iter 80: 10.6020211596 10.7779504667\n",
      "iter 81: 10.5995325416 10.7717582669\n",
      "iter 82: 10.5968858149 10.7671471482\n",
      "iter 83: 10.5944080297 10.7615499042\n",
      "iter 84: 10.5919836267 10.7533534384\n",
      "iter 85: 10.5895396612 10.749345765\n",
      "iter 86: 10.587255215 10.7443551103\n",
      "iter 87: 10.5856667366 10.7367781358\n",
      "iter 88: 10.5834692373 10.7349120479\n",
      "iter 89: 10.5816711559 10.7279054856\n",
      "iter 90: 10.5795340203 10.7266436549\n",
      "iter 91: 10.5777245581 10.717951261\n",
      "iter 92: 10.5756690581 10.7168455991\n",
      "iter 93: 10.5738248601 10.710331012\n",
      "iter 94: 10.5720000426 10.7042616894\n",
      "iter 95: 10.57011152 10.7022551569\n",
      "iter 96: 10.5682027392 10.6967538656\n",
      "iter 97: 10.5663853615 10.6922915996\n",
      "iter 98: 10.5648396317 10.6880982336\n",
      "iter 99: 10.5632786827 10.6830472544\n"
     ]
    }
   ],
   "source": [
    "#initialize w, b\n",
    "w, b = zeroInit()\n",
    "\n",
    "learning_rate = 0.003\n",
    "iter_num = 100\n",
    "C = 0.1\n",
    "\n",
    "#store losses\n",
    "train_loss_history = []\n",
    "test_loss_history = []\n",
    "\n",
    "#start training process\n",
    "for i in range(iter_num):\n",
    "    train_loss = loss(X_train, y_train, w, b, C)\n",
    "    train_loss_history.append(train_loss)\n",
    "    test_loss = loss(X_test, y_test, w, b, C)\n",
    "    test_loss_history.append(test_loss)\n",
    "    \n",
    "    print('iter ' + str(i) + ':', train_loss, test_loss)\n",
    "#     print('train L2loss', L2loss(y_train, np.dot(X_train, w)))\n",
    "#     print('test L2loss', L2loss(y_test, np.dot(X_test, w)))\n",
    "    w -= learning_rate * gradient_w(X_train, y_train, w, b, C)\n",
    "    b -= learning_rate * gradient_b(X_train, y_train, w, b, C)"
   ]
  },
  {
   "cell_type": "code",
   "execution_count": 23,
   "metadata": {
    "collapsed": false
   },
   "outputs": [
    {
     "data": {
      "image/png": "[encoded data removed]",
      "text/plain": [
       "<matplotlib.figure.Figure at 0x215c6bddfd0>"
      ]
     },
     "metadata": {},
     "output_type": "display_data"
    }
   ],
   "source": [
    "#plotting block\n",
    "import matplotlib.pyplot as plt\n",
    "%matplotlib inline\n",
    "\n",
    "plt.xlabel('iteration number')\n",
    "plt.ylabel('loss')\n",
    "plt.plot(range(iter_num), train_loss_history,'r', label='train loss')  \n",
    "plt.plot(range(iter_num), test_loss_history,'b',label='test loss')  \n",
    "plt.legend()\n",
    "plt.grid()\n",
    "plt.show()"
   ]
  },
  {
   "cell_type": "code",
   "execution_count": null,
   "metadata": {
    "collapsed": true
   },
   "outputs": [],
   "source": []
  }
 ],
 "metadata": {
  "kernelspec": {
   "display_name": "Python 3",
   "language": "python",
   "name": "python3"
  },
  "language_info": {
   "codemirror_mode": {
    "name": "ipython",
    "version": 3
   },
   "file_extension": ".py",
   "mimetype": "text/x-python",
   "name": "python",
   "nbconvert_exporter": "python",
   "pygments_lexer": "ipython3",
   "version": "3.5.3rc1"
  }
 },
 "nbformat": 4,
 "nbformat_minor": 0
}
