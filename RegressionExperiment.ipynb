{
 "cells": [
  {
   "cell_type": "code",
   "execution_count": 16,
   "metadata": {
    "collapsed": false
   },
   "outputs": [],
   "source": [
    "import pandas as pd\n",
    "import numpy as np\n",
    "from sklearn import datasets as ds\n",
    "from sklearn.model_selection import train_test_split"
   ]
  },
  {
   "cell_type": "code",
   "execution_count": 58,
   "metadata": {
    "collapsed": false
   },
   "outputs": [],
   "source": [
    "#load datasets\n",
    "X, y = ds.load_svmlight_file('data/housing_scale')\n",
    "X = X.todense()"
   ]
  },
  {
   "cell_type": "code",
   "execution_count": 82,
   "metadata": {
    "collapsed": false
   },
   "outputs": [
    {
     "data": {
      "text/plain": [
       "((253, 13), (253,))"
      ]
     },
     "execution_count": 82,
     "metadata": {},
     "output_type": "execute_result"
    }
   ],
   "source": [
    "#train-test split\n",
    "X_train, X_test, y_train, y_test = train_test_split(X, y, test_size=0.5, random_state=42)\n",
    "X_train = np.array(X_train)\n",
    "X_train.shape, y_train.shape"
   ]
  },
  {
   "cell_type": "code",
   "execution_count": 83,
   "metadata": {
    "collapsed": true
   },
   "outputs": [],
   "source": [
    "#param init:all zeros\n",
    "def zeroInit():\n",
    "    return np.zeros(X_train.shape[1])\n",
    "\n",
    "# define l2 loss\n",
    "def L2loss(y_true, y_pred):\n",
    "    return 1/2 * np.sum(np.square((y_true - y_pred)))\n",
    "\n",
    "#cal gradient\n",
    "def gradient(X, y, w):\n",
    "    return -np.dot(X.T, y) + np.dot(np.dot(X.T, X), w)"
   ]
  },
  {
   "cell_type": "code",
   "execution_count": 86,
   "metadata": {
    "collapsed": false,
    "scrolled": true
   },
   "outputs": [
    {
     "name": "stdout",
     "output_type": "stream",
     "text": [
      "iter 0: 76547.08 73266.09\n",
      "iter 1: 23431.0837626 24709.500163\n",
      "iter 2: 11675.6900743 10791.5121489\n",
      "iter 3: 8640.3291172 8736.80833916\n",
      "iter 4: 7507.60855963 7283.3086533\n",
      "iter 5: 6842.92085032 6863.01352785\n",
      "iter 6: 6336.18185663 6340.65705695\n",
      "iter 7: 5913.63376751 6006.19131765\n",
      "iter 8: 5552.25637438 5677.82504597\n",
      "iter 9: 5240.80195275 5415.76693408\n",
      "iter 10: 4971.47154921 5181.82323509\n",
      "iter 11: 4738.01989131 4984.10263503\n",
      "iter 12: 4535.22837183 4811.82904774\n",
      "iter 13: 4358.68497931 4663.7012408\n",
      "iter 14: 4204.64601034 4535.15869393\n",
      "iter 15: 4069.92961625 4423.85515959\n",
      "iter 16: 3951.82833506 4327.12001933\n",
      "iter 17: 3848.03591633 4242.97908073\n",
      "iter 18: 3756.5857865 4169.61863206\n",
      "iter 19: 3675.79920573 4105.55083315\n",
      "iter 20: 3604.24154462 4049.48020689\n",
      "iter 21: 3540.68537864 4000.3117025\n",
      "iter 22: 3484.07931367 3957.10403167\n",
      "iter 23: 3433.52163309 3919.05387901\n",
      "iter 24: 3388.23800444 3885.47205352\n",
      "iter 25: 3347.56260631 3855.76793896\n",
      "iter 26: 3310.92213885 3829.43425857\n",
      "iter 27: 3277.82226738 3806.03506997\n",
      "iter 28: 3247.83611982 3785.19517433\n",
      "iter 29: 3220.59451945 3766.59130435\n",
      "iter 30: 3195.77768458 3749.94455793\n",
      "iter 31: 3173.10816901 3735.01400096\n",
      "iter 32: 3152.34485293 3721.59120912\n",
      "iter 33: 3133.27782363 3709.49562793\n",
      "iter 34: 3115.72401024 3698.57061651\n",
      "iter 35: 3099.52345834 3688.6800757\n",
      "iter 36: 3084.53614745 3679.70557023\n",
      "iter 37: 3070.63926986 3671.54387146\n",
      "iter 38: 3057.72490153 3664.10485705\n",
      "iter 39: 3045.69800661 3657.30971441\n",
      "iter 40: 3034.4747259 3651.08940255\n",
      "iter 41: 3023.98090736 3645.38333401\n",
      "iter 42: 3014.15084296 3640.13824432\n",
      "iter 43: 3004.92618168 3635.30722137\n",
      "iter 44: 2996.254993 3630.84887122\n",
      "iter 45: 2988.090959 3626.72660049\n",
      "iter 46: 2980.39267662 3622.90799835\n",
      "iter 47: 2973.12305419 3619.36430359\n",
      "iter 48: 2966.24878887 3616.06994481\n",
      "iter 49: 2959.73991352 3613.0021429\n"
     ]
    }
   ],
   "source": [
    "#initialize w\n",
    "w = zeroInit()\n",
    "\n",
    "learning_rate = 0.0015\n",
    "iter_num = 50\n",
    "\n",
    "#store losses\n",
    "train_loss_history = []\n",
    "test_loss_history = []\n",
    "\n",
    "#start training process\n",
    "for i in range(iter_num):\n",
    "    train_loss = L2loss(y_train, np.dot(X_train, w))\n",
    "    train_loss_history.append(train_loss)\n",
    "    test_loss = L2loss(y_test, np.dot(X_test, w))\n",
    "    test_loss_history.append(test_loss)\n",
    "    \n",
    "    print('iter ' + str(i) + ':', train_loss, test_loss)\n",
    "#     print('train L2loss', L2loss(y_train, np.dot(X_train, w)))\n",
    "#     print('test L2loss', L2loss(y_test, np.dot(X_test, w)))\n",
    "    w -= learning_rate * gradient(X_train, y_train, w)"
   ]
  },
  {
   "cell_type": "code",
   "execution_count": 87,
   "metadata": {
    "collapsed": false
   },
   "outputs": [
    {
     "data": {
      "image/png": "[encoded data removed]",
      "text/plain": [
       "<matplotlib.figure.Figure at 0x14835abce10>"
      ]
     },
     "metadata": {},
     "output_type": "display_data"
    }
   ],
   "source": [
    "#plotting block\n",
    "import matplotlib.pyplot as plt\n",
    "%matplotlib inline\n",
    "\n",
    "plt.xlabel('iteration number')\n",
    "plt.ylabel('loss')\n",
    "plt.plot(range(iter_num), train_loss_history,'r', label='train loss')  \n",
    "plt.plot(range(iter_num), test_loss_history,'b',label='test loss')  \n",
    "plt.legend()\n",
    "plt.grid()\n",
    "plt.show()"
   ]
  },
  {
   "cell_type": "code",
   "execution_count": null,
   "metadata": {
    "collapsed": true
   },
   "outputs": [],
   "source": []
  }
 ],
 "metadata": {
  "kernelspec": {
   "display_name": "Python 3",
   "language": "python",
   "name": "python3"
  },
  "language_info": {
   "codemirror_mode": {
    "name": "ipython",
    "version": 3
   },
   "file_extension": ".py",
   "mimetype": "text/x-python",
   "name": "python",
   "nbconvert_exporter": "python",
   "pygments_lexer": "ipython3",
   "version": "3.5.3rc1"
  }
 },
 "nbformat": 4,
 "nbformat_minor": 2
}
